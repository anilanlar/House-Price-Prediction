{
 "cells": [
  {
   "cell_type": "code",
   "execution_count": null,
   "id": "f4a8d94f",
   "metadata": {},
   "outputs": [],
   "source": [
    "import pandas as pd\n",
    "import numpy as np\n",
    "import seaborn as sns\n",
    "import matplotlib.pyplot as plt\n",
    "from sklearn.linear_model import LinearRegression\n",
    "from sklearn import preprocessing\n",
    "from sklearn.model_selection import train_test_split\n",
    "from sklearn.preprocessing import OneHotEncoder\n",
    "import seaborn as sns\n",
    "import datetime as dt\n",
    "from sklearn.preprocessing import MinMaxScaler\n",
    "from sklearn.preprocessing import StandardScaler\n",
    "\n",
    "import scipy.signal as signal\n",
    "from scipy import stats"
   ]
  },
  {
   "cell_type": "markdown",
   "id": "95102777",
   "metadata": {},
   "source": [
    "# Reading the data"
   ]
  },
  {
   "cell_type": "code",
   "execution_count": null,
   "id": "549e4b0e",
   "metadata": {},
   "outputs": [],
   "source": [
    "data = pd.read_csv(\"realestate_train-1.csv\")"
   ]
  },
  {
   "cell_type": "markdown",
   "id": "4837a24a",
   "metadata": {},
   "source": [
    "## PREPROCESSING\n",
    "\n",
    "<img src=\"prep.png\" width=\"400\"/>\n",
    "\n",
    "\n",
    "#### p.s.: Since there is not missing or improper data, we may skip the integration and reduction steps.\n",
    "\n"
   ]
  },
  {
   "cell_type": "markdown",
   "id": "225549ec",
   "metadata": {},
   "source": [
    "#### Converting date object to a numerical value.\n",
    "- Since our models cannot interpret string or date values, we have to numerialize them."
   ]
  },
  {
   "cell_type": "code",
   "execution_count": null,
   "id": "cfaa0714",
   "metadata": {
    "scrolled": true
   },
   "outputs": [],
   "source": [
    "date_column = data[\"date\"]\n",
    "col = pd.to_datetime(date_column)\n",
    "date_ordinal = col.map(dt.datetime.toordinal)\n",
    "data[\"date\"] = date_ordinal\n",
    "data"
   ]
  },
  {
   "cell_type": "markdown",
   "id": "e951d301",
   "metadata": {},
   "source": [
    "- One-hot-encoding the type, in order to have numerically meaningful results, i.e. the types house and unit are going to be represented via 1s and 0s\n"
   ]
  },
  {
   "cell_type": "code",
   "execution_count": null,
   "id": "21c7625d",
   "metadata": {},
   "outputs": [],
   "source": [
    "type_one_hot_encoded = pd.get_dummies(data[[\"type\"]])\n",
    "data = data.drop([\"type\"],axis=1)\n",
    "data = data.join(type_one_hot_encoded)\n"
   ]
  },
  {
   "cell_type": "markdown",
   "id": "5e21fcd2",
   "metadata": {},
   "source": [
    "- Assigning target vector and feature matrix to the variables y and X respectively.\n"
   ]
  },
  {
   "cell_type": "code",
   "execution_count": null,
   "id": "44706708",
   "metadata": {
    "scrolled": true
   },
   "outputs": [],
   "source": [
    "y = data[[\"price\"]]\n",
    "X = data.drop([\"price\"],axis=1)\n",
    "X"
   ]
  },
  {
   "cell_type": "markdown",
   "id": "64ba377c",
   "metadata": {},
   "source": [
    "## Data Cleaning\n",
    "- Here, we clear the dataset of the outliers. Zscore method is used to remove the house samples which deviate with a z-score with an absolute value more than 3. In this case, 3 is arbitrary, but a commonly used value."
   ]
  },
  {
   "cell_type": "code",
   "execution_count": null,
   "id": "c9cb939f",
   "metadata": {
    "scrolled": true
   },
   "outputs": [],
   "source": [
    "z = np.abs(stats.zscore(y))\n",
    "threshold= 3\n",
    "outlier_indices = np.where(z > threshold)[0]"
   ]
  },
  {
   "cell_type": "code",
   "execution_count": null,
   "id": "fec904e4",
   "metadata": {},
   "outputs": [],
   "source": [
    "# print(data[\"price\"][remov[0]])\n",
    "clean_X = X.drop(outlier_indices)\n",
    "clean_y = y.drop(outlier_indices)\n",
    "clean_X"
   ]
  },
  {
   "cell_type": "markdown",
   "id": "56c9eb95",
   "metadata": {},
   "source": [
    "## Data Transformation\n",
    "- Normalization of the training dataset.\n",
    "- For normalization, MinMaxScaler from sklearn.preprocessing is used, it is aimed to improve the accuracy and efficiency of algorithms we are going to use in the further steps.\n",
    "- The result is, in fact, the same. However, the data is scaled between 0 and 1 for the sake of efficiency.\n",
    "- p.s: We do not normalize the one-hot-encoded variables"
   ]
  },
  {
   "cell_type": "code",
   "execution_count": null,
   "id": "4bc82329",
   "metadata": {},
   "outputs": [],
   "source": [
    "X_normalized = np.copy(clean_X)\n",
    "\n",
    "scaler = MinMaxScaler()\n",
    "\n",
    "# Fit and transform the Date and Bedrooms columns of the data\n",
    "fitted = scaler.fit(X_normalized[:,:2])\n",
    "\n",
    "X_normalized = fitted.transform(X_normalized[:,:2])\n",
    "\n",
    "house_column = clean_X[[\"type_house\"]]\n",
    "unit_column = clean_X[[\"type_unit\"]]\n",
    "\n",
    "X_normalized = np.concatenate((X_normalized, house_column,unit_column), axis=1)\n",
    "\n",
    "X_normalized"
   ]
  },
  {
   "cell_type": "markdown",
   "id": "28cfd514",
   "metadata": {},
   "source": [
    "# Training the model\n",
    "### Using linear regression method from sklearn, the preprocessed data is fit.\n",
    "- For our linear regression we use the feature matrix clean_X, and target vector i.e. price column of the dataset.\n",
    "\n",
    "### Conclusion\n",
    "- Model's coefficients can be interpreted as follows: If the weight corresponding to the \"bedrooms\" column is 1.17 x 10^5, an extra bedroom will lead to an increase of €117000 in the price.\n",
    "\n",
    "- As it can be seen from the coefficients (model.coef_), not all of the features have a huge impact on the change of the price.  "
   ]
  },
  {
   "cell_type": "code",
   "execution_count": 82,
   "id": "db31db7b",
   "metadata": {},
   "outputs": [
    {
     "data": {
      "text/plain": [
       "array([[ 4.07138504e+01,  1.16848175e+05, -9.55526730e+03,\n",
       "         9.55526730e+03]])"
      ]
     },
     "execution_count": 82,
     "metadata": {},
     "output_type": "execute_result"
    }
   ],
   "source": [
    "model = LinearRegression()\n",
    "model.fit(clean_X,clean_y)\n",
    "model.coef_"
   ]
  },
  {
   "cell_type": "markdown",
   "id": "a08a297d",
   "metadata": {},
   "source": [
    "## Using LSTM Model from Keras, trained a Recurrent Neural Network\n",
    "\n",
    "#### Long short-term memory structure\n",
    "\n",
    "<img src=\"lstm_a.png\" width=\"400\"/>\n",
    "\n",
    "#### LSTM network diagram\n",
    "\n",
    "<img src=\"lstm_d.png\" width=\"400\"/>\n"
   ]
  },
  {
   "cell_type": "markdown",
   "id": "ebe4bff6",
   "metadata": {},
   "source": [
    "- We can change the hyperparameter learning_rate and number of epochs. Learning rate is the most crucial hyperparameter of the algorithm. It must be chosen wisely.\n",
    "- For optimization algorithm, we used Adam instead of Stochastic Gradient Descent as it is faster to converge.\n",
    "- In order to avoid overfitting, we use a Dropout layer."
   ]
  },
  {
   "cell_type": "code",
   "execution_count": null,
   "id": "c7dc56e4",
   "metadata": {
    "scrolled": false
   },
   "outputs": [],
   "source": [
    "from tensorflow.keras.models import Sequential\n",
    "from tensorflow.keras.optimizers import Adam\n",
    "from tensorflow.keras import layers\n",
    "\n",
    "model_lstm = Sequential([layers.Input((4, 1)),\n",
    "                    layers.LSTM(64),\n",
    "                    layers.Dense(64, activation='relu'),\n",
    "                    layers.Dropout(0.4),\n",
    "                    layers.Dense(64, activation='relu'),\n",
    "                    layers.Dense(1)])\n",
    "\n",
    "model_lstm.compile(loss='mse', \n",
    "              optimizer=Adam(learning_rate=0.01),\n",
    "              metrics=['mean_absolute_error'],\n",
    "             )\n",
    "    \n",
    "model_lstm.fit(clean_X,clean_y, epochs=10)"
   ]
  },
  {
   "cell_type": "markdown",
   "id": "d95350c2",
   "metadata": {},
   "source": [
    "# Testing\n",
    "#### Test data is imported. The same numerializing steps above are applied to the test data.  \n",
    "- We are going to use **hold out validation**. As the test data and the training data are given in separate files, we do not need to split the training data once again. The split ratio is %33. "
   ]
  },
  {
   "cell_type": "code",
   "execution_count": null,
   "id": "910b0d90",
   "metadata": {
    "scrolled": false
   },
   "outputs": [],
   "source": [
    "test_data = pd.read_csv(\"realestate_test.csv\")\n",
    "\n",
    "# Date column is converted into a numerical value\n",
    "test_date_column = test_data[\"date\"]\n",
    "test_col = pd.to_datetime(date_column)\n",
    "test_date_ordinal = test_col.map(dt.datetime.toordinal)\n",
    "test_data[\"date\"] = test_date_ordinal\n",
    "\n",
    "# Since the feature type is a string value, we one-hot-encoded it.\n",
    "test_type_one_hot_encoded = pd.get_dummies(test_data[[\"type\"]])\n",
    "test_data = test_data.drop([\"type\"],axis=1)\n",
    "test_data = test_data.join(type_one_hot_encoded)\n",
    "\n",
    "# Splitting test data into feature matrix and target vector\n",
    "test_y = test_data[[\"price\"]]\n",
    "test_X = test_data.drop([\"price\"],axis=1)\n",
    "test_X"
   ]
  },
  {
   "cell_type": "markdown",
   "id": "925d1ddb",
   "metadata": {},
   "source": [
    "- To test the model A, we used R² score testing from sklearn.\n",
    "- Model A performs better than model B in this case since it is faster. "
   ]
  },
  {
   "cell_type": "code",
   "execution_count": null,
   "id": "8de3741c",
   "metadata": {},
   "outputs": [],
   "source": [
    "from sklearn.metrics import r2_score\n",
    "y_pred= model.predict(test_X)\n",
    "print(r2_score(y_pred, test_y))\n",
    "y_pred_lstm = model_lstm.predict(test_X)\n",
    "print(r2_score(y_pred_lstm, test_y))"
   ]
  },
  {
   "cell_type": "markdown",
   "id": "0b2703f8",
   "metadata": {},
   "source": [
    "- As it can be concluded from the heatmap below, there is not a good amount of correlation between features. This means no feature has a direct impact on the price which, in turn, means the information provided is not useful to interpret price data. Therefore, I would recommend the real estate company to provide a more detailed and correlated data. "
   ]
  },
  {
   "cell_type": "code",
   "execution_count": null,
   "id": "e8664346",
   "metadata": {},
   "outputs": [],
   "source": [
    "sns.heatmap(data.corr(),annot=True)"
   ]
  }
 ],
 "metadata": {
  "kernelspec": {
   "display_name": "Python 3 (ipykernel)",
   "language": "python",
   "name": "python3"
  },
  "language_info": {
   "codemirror_mode": {
    "name": "ipython",
    "version": 3
   },
   "file_extension": ".py",
   "mimetype": "text/x-python",
   "name": "python",
   "nbconvert_exporter": "python",
   "pygments_lexer": "ipython3",
   "version": "3.8.10"
  }
 },
 "nbformat": 4,
 "nbformat_minor": 5
}
